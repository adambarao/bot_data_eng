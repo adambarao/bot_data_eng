{
 "cells": [
  {
   "cell_type": "code",
   "execution_count": null,
   "metadata": {
    "scrolled": false
   },
   "outputs": [],
   "source": []
  },
  {
   "cell_type": "code",
   "execution_count": 44,
   "metadata": {},
   "outputs": [],
   "source": [
    "import pandas as pd\n",
    "df = pd.read_csv(r'C:\\Users\\adamb\\Desktop\\Base_2017_1.csv', encoding='utf8', sep=';')"
   ]
  },
  {
   "cell_type": "code",
   "execution_count": 45,
   "metadata": {},
   "outputs": [
    {
     "data": {
      "text/html": [
       "<div>\n",
       "<style scoped>\n",
       "    .dataframe tbody tr th:only-of-type {\n",
       "        vertical-align: middle;\n",
       "    }\n",
       "\n",
       "    .dataframe tbody tr th {\n",
       "        vertical-align: top;\n",
       "    }\n",
       "\n",
       "    .dataframe thead th {\n",
       "        text-align: right;\n",
       "    }\n",
       "</style>\n",
       "<table border=\"1\" class=\"dataframe\">\n",
       "  <thead>\n",
       "    <tr style=\"text-align: right;\">\n",
       "      <th></th>\n",
       "      <th>ID_MARCA</th>\n",
       "      <th>MARCA</th>\n",
       "      <th>ID_LINHA</th>\n",
       "      <th>LINHA</th>\n",
       "      <th>DATA_VENDA</th>\n",
       "      <th>QTD_VENDA</th>\n",
       "    </tr>\n",
       "  </thead>\n",
       "  <tbody>\n",
       "    <tr>\n",
       "      <th>0</th>\n",
       "      <td>1</td>\n",
       "      <td>BOTICÁRIO</td>\n",
       "      <td>1</td>\n",
       "      <td>CABELOS</td>\n",
       "      <td>27/03/2018</td>\n",
       "      <td>9</td>\n",
       "    </tr>\n",
       "    <tr>\n",
       "      <th>1</th>\n",
       "      <td>4</td>\n",
       "      <td>VULT</td>\n",
       "      <td>1</td>\n",
       "      <td>CABELOS</td>\n",
       "      <td>03/02/2018</td>\n",
       "      <td>3</td>\n",
       "    </tr>\n",
       "    <tr>\n",
       "      <th>2</th>\n",
       "      <td>2</td>\n",
       "      <td>EUDORA</td>\n",
       "      <td>1</td>\n",
       "      <td>CABELOS</td>\n",
       "      <td>21/10/2018</td>\n",
       "      <td>7</td>\n",
       "    </tr>\n",
       "    <tr>\n",
       "      <th>3</th>\n",
       "      <td>2</td>\n",
       "      <td>EUDORA</td>\n",
       "      <td>4</td>\n",
       "      <td>SOLAR</td>\n",
       "      <td>22/04/2018</td>\n",
       "      <td>13</td>\n",
       "    </tr>\n",
       "    <tr>\n",
       "      <th>4</th>\n",
       "      <td>5</td>\n",
       "      <td>BELEZA NA WEB</td>\n",
       "      <td>3</td>\n",
       "      <td>MAQUIAGEM</td>\n",
       "      <td>21/03/2018</td>\n",
       "      <td>9</td>\n",
       "    </tr>\n",
       "  </tbody>\n",
       "</table>\n",
       "</div>"
      ],
      "text/plain": [
       "   ID_MARCA          MARCA  ID_LINHA      LINHA  DATA_VENDA  QTD_VENDA\n",
       "0         1      BOTICÁRIO         1    CABELOS  27/03/2018          9\n",
       "1         4           VULT         1    CABELOS  03/02/2018          3\n",
       "2         2         EUDORA         1    CABELOS  21/10/2018          7\n",
       "3         2         EUDORA         4      SOLAR  22/04/2018         13\n",
       "4         5  BELEZA NA WEB         3  MAQUIAGEM  21/03/2018          9"
      ]
     },
     "execution_count": 45,
     "metadata": {},
     "output_type": "execute_result"
    }
   ],
   "source": [
    "df.head()"
   ]
  },
  {
   "cell_type": "code",
   "execution_count": 8,
   "metadata": {
    "scrolled": false
   },
   "outputs": [
    {
     "data": {
      "text/plain": [
       "(1000, 6)"
      ]
     },
     "execution_count": 8,
     "metadata": {},
     "output_type": "execute_result"
    }
   ],
   "source": [
    "df.shape"
   ]
  },
  {
   "cell_type": "code",
   "execution_count": 9,
   "metadata": {
    "scrolled": false
   },
   "outputs": [
    {
     "data": {
      "text/plain": [
       "ID_MARCA       int64\n",
       "MARCA         object\n",
       "ID_LINHA       int64\n",
       "LINHA         object\n",
       "DATA_VENDA    object\n",
       "QTD_VENDA      int64\n",
       "dtype: object"
      ]
     },
     "execution_count": 9,
     "metadata": {},
     "output_type": "execute_result"
    }
   ],
   "source": [
    "df.dtypes"
   ]
  },
  {
   "cell_type": "code",
   "execution_count": 10,
   "metadata": {
    "scrolled": true
   },
   "outputs": [
    {
     "data": {
      "text/html": [
       "<div>\n",
       "<style scoped>\n",
       "    .dataframe tbody tr th:only-of-type {\n",
       "        vertical-align: middle;\n",
       "    }\n",
       "\n",
       "    .dataframe tbody tr th {\n",
       "        vertical-align: top;\n",
       "    }\n",
       "\n",
       "    .dataframe thead th {\n",
       "        text-align: right;\n",
       "    }\n",
       "</style>\n",
       "<table border=\"1\" class=\"dataframe\">\n",
       "  <thead>\n",
       "    <tr style=\"text-align: right;\">\n",
       "      <th></th>\n",
       "      <th>ID_MARCA</th>\n",
       "      <th>ID_LINHA</th>\n",
       "      <th>QTD_VENDA</th>\n",
       "    </tr>\n",
       "  </thead>\n",
       "  <tbody>\n",
       "    <tr>\n",
       "      <th>count</th>\n",
       "      <td>1000.00000</td>\n",
       "      <td>1000.000000</td>\n",
       "      <td>1000.000000</td>\n",
       "    </tr>\n",
       "    <tr>\n",
       "      <th>mean</th>\n",
       "      <td>2.99600</td>\n",
       "      <td>2.997000</td>\n",
       "      <td>10.356000</td>\n",
       "    </tr>\n",
       "    <tr>\n",
       "      <th>std</th>\n",
       "      <td>1.43668</td>\n",
       "      <td>1.421623</td>\n",
       "      <td>5.653249</td>\n",
       "    </tr>\n",
       "    <tr>\n",
       "      <th>min</th>\n",
       "      <td>1.00000</td>\n",
       "      <td>1.000000</td>\n",
       "      <td>1.000000</td>\n",
       "    </tr>\n",
       "    <tr>\n",
       "      <th>25%</th>\n",
       "      <td>2.00000</td>\n",
       "      <td>2.000000</td>\n",
       "      <td>5.000000</td>\n",
       "    </tr>\n",
       "    <tr>\n",
       "      <th>50%</th>\n",
       "      <td>3.00000</td>\n",
       "      <td>3.000000</td>\n",
       "      <td>10.000000</td>\n",
       "    </tr>\n",
       "    <tr>\n",
       "      <th>75%</th>\n",
       "      <td>4.00000</td>\n",
       "      <td>4.000000</td>\n",
       "      <td>15.000000</td>\n",
       "    </tr>\n",
       "    <tr>\n",
       "      <th>max</th>\n",
       "      <td>5.00000</td>\n",
       "      <td>5.000000</td>\n",
       "      <td>20.000000</td>\n",
       "    </tr>\n",
       "  </tbody>\n",
       "</table>\n",
       "</div>"
      ],
      "text/plain": [
       "         ID_MARCA     ID_LINHA    QTD_VENDA\n",
       "count  1000.00000  1000.000000  1000.000000\n",
       "mean      2.99600     2.997000    10.356000\n",
       "std       1.43668     1.421623     5.653249\n",
       "min       1.00000     1.000000     1.000000\n",
       "25%       2.00000     2.000000     5.000000\n",
       "50%       3.00000     3.000000    10.000000\n",
       "75%       4.00000     4.000000    15.000000\n",
       "max       5.00000     5.000000    20.000000"
      ]
     },
     "execution_count": 10,
     "metadata": {},
     "output_type": "execute_result"
    }
   ],
   "source": [
    "df.describe()"
   ]
  },
  {
   "cell_type": "code",
   "execution_count": 12,
   "metadata": {
    "scrolled": false
   },
   "outputs": [
    {
     "data": {
      "text/plain": [
       "Index(['ID_MARCA', 'MARCA', 'ID_LINHA', 'LINHA', 'DATA_VENDA', 'QTD_VENDA'], dtype='object')"
      ]
     },
     "execution_count": 12,
     "metadata": {},
     "output_type": "execute_result"
    }
   ],
   "source": [
    "df.columns"
   ]
  },
  {
   "cell_type": "code",
   "execution_count": 19,
   "metadata": {
    "scrolled": false
   },
   "outputs": [
    {
     "data": {
      "text/plain": [
       "ID_MARCA      False\n",
       "MARCA         False\n",
       "ID_LINHA      False\n",
       "LINHA         False\n",
       "DATA_VENDA    False\n",
       "QTD_VENDA     False\n",
       "dtype: bool"
      ]
     },
     "execution_count": 19,
     "metadata": {},
     "output_type": "execute_result"
    }
   ],
   "source": [
    "df.isnull().any()"
   ]
  },
  {
   "cell_type": "code",
   "execution_count": 20,
   "metadata": {
    "scrolled": false
   },
   "outputs": [
    {
     "data": {
      "text/plain": [
       "ID_MARCA      True\n",
       "MARCA         True\n",
       "ID_LINHA      True\n",
       "LINHA         True\n",
       "DATA_VENDA    True\n",
       "QTD_VENDA     True\n",
       "dtype: bool"
      ]
     },
     "execution_count": 20,
     "metadata": {},
     "output_type": "execute_result"
    }
   ],
   "source": [
    "df.notnull().all()"
   ]
  },
  {
   "cell_type": "code",
   "execution_count": 23,
   "metadata": {
    "scrolled": true
   },
   "outputs": [
    {
     "data": {
      "text/plain": [
       "0      False\n",
       "1      False\n",
       "2      False\n",
       "3      False\n",
       "4      False\n",
       "       ...  \n",
       "995    False\n",
       "996    False\n",
       "997    False\n",
       "998    False\n",
       "999    False\n",
       "Length: 1000, dtype: bool"
      ]
     },
     "execution_count": 23,
     "metadata": {},
     "output_type": "execute_result"
    }
   ],
   "source": [
    "df.duplicated()"
   ]
  },
  {
   "cell_type": "code",
   "execution_count": 27,
   "metadata": {
    "scrolled": false
   },
   "outputs": [
    {
     "data": {
      "text/html": [
       "<div>\n",
       "<style scoped>\n",
       "    .dataframe tbody tr th:only-of-type {\n",
       "        vertical-align: middle;\n",
       "    }\n",
       "\n",
       "    .dataframe tbody tr th {\n",
       "        vertical-align: top;\n",
       "    }\n",
       "\n",
       "    .dataframe thead th {\n",
       "        text-align: right;\n",
       "    }\n",
       "</style>\n",
       "<table border=\"1\" class=\"dataframe\">\n",
       "  <thead>\n",
       "    <tr style=\"text-align: right;\">\n",
       "      <th></th>\n",
       "      <th>ID_MARCA</th>\n",
       "      <th>MARCA</th>\n",
       "      <th>ID_LINHA</th>\n",
       "      <th>LINHA</th>\n",
       "      <th>DATA_VENDA</th>\n",
       "      <th>QTD_VENDA</th>\n",
       "    </tr>\n",
       "  </thead>\n",
       "  <tbody>\n",
       "    <tr>\n",
       "      <th>0</th>\n",
       "      <td>1</td>\n",
       "      <td>BOTICÁRIO</td>\n",
       "      <td>1</td>\n",
       "      <td>CABELOS</td>\n",
       "      <td>27/03/2018</td>\n",
       "      <td>9</td>\n",
       "    </tr>\n",
       "    <tr>\n",
       "      <th>1</th>\n",
       "      <td>4</td>\n",
       "      <td>VULT</td>\n",
       "      <td>1</td>\n",
       "      <td>CABELOS</td>\n",
       "      <td>03/02/2018</td>\n",
       "      <td>3</td>\n",
       "    </tr>\n",
       "    <tr>\n",
       "      <th>2</th>\n",
       "      <td>2</td>\n",
       "      <td>EUDORA</td>\n",
       "      <td>1</td>\n",
       "      <td>CABELOS</td>\n",
       "      <td>21/10/2018</td>\n",
       "      <td>7</td>\n",
       "    </tr>\n",
       "    <tr>\n",
       "      <th>3</th>\n",
       "      <td>2</td>\n",
       "      <td>EUDORA</td>\n",
       "      <td>4</td>\n",
       "      <td>SOLAR</td>\n",
       "      <td>22/04/2018</td>\n",
       "      <td>13</td>\n",
       "    </tr>\n",
       "    <tr>\n",
       "      <th>4</th>\n",
       "      <td>5</td>\n",
       "      <td>BELEZA NA WEB</td>\n",
       "      <td>3</td>\n",
       "      <td>MAQUIAGEM</td>\n",
       "      <td>21/03/2018</td>\n",
       "      <td>9</td>\n",
       "    </tr>\n",
       "  </tbody>\n",
       "</table>\n",
       "</div>"
      ],
      "text/plain": [
       "   ID_MARCA          MARCA  ID_LINHA      LINHA  DATA_VENDA  QTD_VENDA\n",
       "0         1      BOTICÁRIO         1    CABELOS  27/03/2018          9\n",
       "1         4           VULT         1    CABELOS  03/02/2018          3\n",
       "2         2         EUDORA         1    CABELOS  21/10/2018          7\n",
       "3         2         EUDORA         4      SOLAR  22/04/2018         13\n",
       "4         5  BELEZA NA WEB         3  MAQUIAGEM  21/03/2018          9"
      ]
     },
     "execution_count": 27,
     "metadata": {},
     "output_type": "execute_result"
    }
   ],
   "source": [
    "df.head()"
   ]
  },
  {
   "cell_type": "code",
   "execution_count": null,
   "metadata": {},
   "outputs": [],
   "source": []
  },
  {
   "cell_type": "code",
   "execution_count": 144,
   "metadata": {},
   "outputs": [],
   "source": [
    "import os\n",
    "import pandas as pd\n",
    "import psycopg2\n",
    "from sqlalchemy import create_engine\n",
    "from sqlalchemy import MetaData\n",
    "from sqlalchemy import exc\n",
    "#import table_columns\n",
    "from io import StringIO\n",
    "import re\n",
    "import sys"
   ]
  },
  {
   "cell_type": "code",
   "execution_count": 145,
   "metadata": {},
   "outputs": [],
   "source": [
    "pd.options.display.max_columns=50"
   ]
  },
  {
   "cell_type": "code",
   "execution_count": 146,
   "metadata": {},
   "outputs": [],
   "source": [
    "engine = create_engine('postgresql+psycopg2://{}:{}@{}:{}/{}'.format(\n",
    "    'postgres',\n",
    "    'Stage2!',\n",
    "    'stage.chlnyxxxxxyy.us-east-2.rds.amazonaws.com',\n",
    "    '5432' ,\n",
    "    'postgres'\n",
    "))"
   ]
  },
  {
   "cell_type": "code",
   "execution_count": 147,
   "metadata": {},
   "outputs": [
    {
     "name": "stdout",
     "output_type": "stream",
     "text": [
      "env: SCHEMA=bot_stage\n"
     ]
    }
   ],
   "source": [
    "%env SCHEMA = bot_stage"
   ]
  },
  {
   "cell_type": "code",
   "execution_count": 148,
   "metadata": {},
   "outputs": [],
   "source": [
    "path = 'C:\\\\Users\\\\adamb\\\\Desktop\\\\BOT\\\\'\n",
    "lista_arquivos = os.listdir(path)"
   ]
  },
  {
   "cell_type": "code",
   "execution_count": 149,
   "metadata": {},
   "outputs": [],
   "source": [
    "dici_arquivos = {\n",
    "    'sales': 'Base_{}.csv'\n",
    "}"
   ]
  },
  {
   "cell_type": "code",
   "execution_count": 150,
   "metadata": {},
   "outputs": [],
   "source": [
    "def have_tables(dici_arquivos):\n",
    "    tabelas_faltante = []\n",
    "    for tabela in dici_arquivos:\n",
    "        if dici_arquivos[tabela] == '':\n",
    "            tabelas_faltante.append(tabela)\n",
    "    \n",
    "    if len(tabelas_faltante)>0:\n",
    "        print('Estão faltando as seguintes tabelas:\\n',tabelas_faltante)"
   ]
  },
  {
   "cell_type": "code",
   "execution_count": 151,
   "metadata": {},
   "outputs": [],
   "source": [
    "def get_list_of_dataframe(arquivo):\n",
    "    prefixo_arquivo = arquivo.replace('{}.csv', '')\n",
    "    arquivo_diretorio = os.listdir(path)\n",
    "    lista_arquivos_para_agrupar = [arquivo for arquivo in arquivo_diretorio if arquivo.startswith(prefixo_arquivo) ]\n",
    "    # Agrupar arquivos em 1 único dataframe\n",
    "    lista_df = []\n",
    "    print('lido os arquivos: ')\n",
    "    for arquivo in lista_arquivos_para_agrupar:  \n",
    "        print(arquivo)\n",
    "        lista_df.append(text_file_to_dataframe(path+arquivo))\n",
    "    return lista_df"
   ]
  },
  {
   "cell_type": "code",
   "execution_count": 152,
   "metadata": {},
   "outputs": [],
   "source": [
    "def text_file_to_dataframe(path_file):\n",
    "    try:\n",
    "        return pd.read_csv(path_file, sep=';', encoding='utf8', dtype='str')\n",
    "    except pd.errors.ParserError as e:\n",
    "        with open(\"temp.log\", \"w\") as f: \n",
    "            original_stderr = sys.stderr\n",
    "            sys.stderr = f\n",
    "            df = pd.read_csv(path_file, sep=';', encoding='utf8', error_bad_lines=False, dtype='str')\n",
    "            sys.stderr = original_stderr\n",
    "            \n",
    "        # Exibir as linhas que apresentaram erro    \n",
    "        with open(\"temp.log\", \"r\") as f: \n",
    "            lines = f.readlines()[0].split('\\\\n')\n",
    "            errors = []\n",
    "            for line in lines:\n",
    "                errors += [re.findall('\\d+', line)]\n",
    "                errors_lines = [int(first[0]) for first in errors if len(first)>0]\n",
    "                \n",
    "        print('Arquivos com linhas quebradas: {} \\nLinhas:{}'.format(path_file, errors_lines))\n",
    "        \n",
    "        \n",
    "    return df"
   ]
  },
  {
   "cell_type": "code",
   "execution_count": 153,
   "metadata": {},
   "outputs": [],
   "source": [
    "def read_file(tabela, path):\n",
    "    arquivo = dici_arquivos[tabela]\n",
    "    # verificar se a tabela está dividida em multiplos arquivo\n",
    "    if '{}' in arquivo:\n",
    "        lista_df = get_list_of_dataframe(arquivo)\n",
    "        df = pd.concat(lista_df, sort=False)\n",
    "    else:\n",
    "        df = text_file_to_dataframe(path+arquivo)\n",
    "        \n",
    "    df.archive = arquivo\n",
    "    df.table = tabela\n",
    "    return df"
   ]
  },
  {
   "cell_type": "code",
   "execution_count": 154,
   "metadata": {},
   "outputs": [],
   "source": [
    "'''\n",
    "Passar essa responsabilidade para o read_file\n",
    "'''\n",
    "def read_from_csv_deleting_lines(tabela, lines=[]):\n",
    "    with open(path + dici_arquivos[tabela], \"r\", encoding='utf8') as in_file:\n",
    "        arquivo_lista = in_file.read().splitlines()\n",
    "        for line in lines:\n",
    "            if str(line)[0]=='>':\n",
    "                line = int(line[1:])\n",
    "                del arquivo_lista[line-1:]\n",
    "            else: \n",
    "                del arquivo_lista[line-1]\n",
    "    arquivo_texto = StringIO('\\n'.join(arquivo_lista))\n",
    "    df = pd.read_csv(arquivo_texto, sep=';')\n",
    "    return df"
   ]
  },
  {
   "cell_type": "code",
   "execution_count": 155,
   "metadata": {},
   "outputs": [],
   "source": [
    "def load_to_db(df):\n",
    "    df.to_sql('sales'.format(tabela),\n",
    "          con=engine,\n",
    "          schema=os.getenv('SCHEMA'),\n",
    "          if_exists='replace',\n",
    "          index=False,\n",
    "          chunksize=10000,\n",
    "          method='multi'\n",
    "         )"
   ]
  },
  {
   "cell_type": "code",
   "execution_count": 156,
   "metadata": {},
   "outputs": [],
   "source": [
    "have_tables(dici_arquivos)"
   ]
  },
  {
   "cell_type": "code",
   "execution_count": 157,
   "metadata": {},
   "outputs": [],
   "source": [
    "# Tabela Sales"
   ]
  },
  {
   "cell_type": "code",
   "execution_count": 158,
   "metadata": {},
   "outputs": [],
   "source": [
    "#tabela = 'sales'\n",
    "#colunas = table_columns.sales"
   ]
  },
  {
   "cell_type": "code",
   "execution_count": 159,
   "metadata": {},
   "outputs": [
    {
     "name": "stdout",
     "output_type": "stream",
     "text": [
      "lido os arquivos: \n",
      "Base_2017_1.csv\n",
      "Base_2018_2.csv\n",
      "Base_2019_3.csv\n"
     ]
    }
   ],
   "source": [
    "df = read_file(tabela, path)"
   ]
  },
  {
   "cell_type": "code",
   "execution_count": 160,
   "metadata": {},
   "outputs": [
    {
     "data": {
      "text/html": [
       "<div>\n",
       "<style scoped>\n",
       "    .dataframe tbody tr th:only-of-type {\n",
       "        vertical-align: middle;\n",
       "    }\n",
       "\n",
       "    .dataframe tbody tr th {\n",
       "        vertical-align: top;\n",
       "    }\n",
       "\n",
       "    .dataframe thead th {\n",
       "        text-align: right;\n",
       "    }\n",
       "</style>\n",
       "<table border=\"1\" class=\"dataframe\">\n",
       "  <thead>\n",
       "    <tr style=\"text-align: right;\">\n",
       "      <th></th>\n",
       "      <th>ID_MARCA</th>\n",
       "      <th>MARCA</th>\n",
       "      <th>ID_LINHA</th>\n",
       "      <th>LINHA</th>\n",
       "      <th>DATA_VENDA</th>\n",
       "      <th>QTD_VENDA</th>\n",
       "    </tr>\n",
       "  </thead>\n",
       "  <tbody>\n",
       "    <tr>\n",
       "      <th>0</th>\n",
       "      <td>1</td>\n",
       "      <td>BOTICÁRIO</td>\n",
       "      <td>1</td>\n",
       "      <td>CABELOS</td>\n",
       "      <td>27/03/2018</td>\n",
       "      <td>9</td>\n",
       "    </tr>\n",
       "    <tr>\n",
       "      <th>1</th>\n",
       "      <td>4</td>\n",
       "      <td>VULT</td>\n",
       "      <td>1</td>\n",
       "      <td>CABELOS</td>\n",
       "      <td>03/02/2018</td>\n",
       "      <td>3</td>\n",
       "    </tr>\n",
       "    <tr>\n",
       "      <th>2</th>\n",
       "      <td>2</td>\n",
       "      <td>EUDORA</td>\n",
       "      <td>1</td>\n",
       "      <td>CABELOS</td>\n",
       "      <td>21/10/2018</td>\n",
       "      <td>7</td>\n",
       "    </tr>\n",
       "    <tr>\n",
       "      <th>3</th>\n",
       "      <td>2</td>\n",
       "      <td>EUDORA</td>\n",
       "      <td>4</td>\n",
       "      <td>SOLAR</td>\n",
       "      <td>22/04/2018</td>\n",
       "      <td>13</td>\n",
       "    </tr>\n",
       "    <tr>\n",
       "      <th>4</th>\n",
       "      <td>5</td>\n",
       "      <td>BELEZA NA WEB</td>\n",
       "      <td>3</td>\n",
       "      <td>MAQUIAGEM</td>\n",
       "      <td>21/03/2018</td>\n",
       "      <td>9</td>\n",
       "    </tr>\n",
       "  </tbody>\n",
       "</table>\n",
       "</div>"
      ],
      "text/plain": [
       "  ID_MARCA          MARCA ID_LINHA      LINHA  DATA_VENDA QTD_VENDA\n",
       "0        1      BOTICÁRIO        1    CABELOS  27/03/2018         9\n",
       "1        4           VULT        1    CABELOS  03/02/2018         3\n",
       "2        2         EUDORA        1    CABELOS  21/10/2018         7\n",
       "3        2         EUDORA        4      SOLAR  22/04/2018        13\n",
       "4        5  BELEZA NA WEB        3  MAQUIAGEM  21/03/2018         9"
      ]
     },
     "execution_count": 160,
     "metadata": {},
     "output_type": "execute_result"
    }
   ],
   "source": [
    "df.head()"
   ]
  },
  {
   "cell_type": "code",
   "execution_count": 162,
   "metadata": {
    "scrolled": true
   },
   "outputs": [
    {
     "data": {
      "text/plain": [
       "0      False\n",
       "1      False\n",
       "2      False\n",
       "3      False\n",
       "4      False\n",
       "       ...  \n",
       "995    False\n",
       "996    False\n",
       "997    False\n",
       "998    False\n",
       "999    False\n",
       "Length: 3000, dtype: bool"
      ]
     },
     "execution_count": 162,
     "metadata": {},
     "output_type": "execute_result"
    }
   ],
   "source": [
    "df.duplicated()"
   ]
  },
  {
   "cell_type": "code",
   "execution_count": 163,
   "metadata": {
    "scrolled": true
   },
   "outputs": [
    {
     "data": {
      "text/plain": [
       "ID_MARCA      False\n",
       "MARCA         False\n",
       "ID_LINHA      False\n",
       "LINHA         False\n",
       "DATA_VENDA    False\n",
       "QTD_VENDA     False\n",
       "dtype: bool"
      ]
     },
     "execution_count": 163,
     "metadata": {},
     "output_type": "execute_result"
    }
   ],
   "source": [
    "df.isnull().any()"
   ]
  },
  {
   "cell_type": "code",
   "execution_count": 164,
   "metadata": {},
   "outputs": [
    {
     "data": {
      "text/plain": [
       "(3000, 6)"
      ]
     },
     "execution_count": 164,
     "metadata": {},
     "output_type": "execute_result"
    }
   ],
   "source": [
    "df.shape"
   ]
  },
  {
   "cell_type": "code",
   "execution_count": 161,
   "metadata": {},
   "outputs": [],
   "source": [
    "load_to_db(df)"
   ]
  },
  {
   "cell_type": "code",
   "execution_count": null,
   "metadata": {},
   "outputs": [],
   "source": []
  }
 ],
 "metadata": {
  "kernelspec": {
   "display_name": "Python 3",
   "language": "python",
   "name": "python3"
  },
  "language_info": {
   "codemirror_mode": {
    "name": "ipython",
    "version": 3
   },
   "file_extension": ".py",
   "mimetype": "text/x-python",
   "name": "python",
   "nbconvert_exporter": "python",
   "pygments_lexer": "ipython3",
   "version": "3.7.6"
  }
 },
 "nbformat": 4,
 "nbformat_minor": 4
}
