{
 "cells": [
  {
   "cell_type": "code",
   "execution_count": 2,
   "metadata": {},
   "outputs": [],
   "source": [
    "import os\n",
    "import pandas as pd\n",
    "from pandas.io import gbq\n",
    "import psycopg2\n",
    "from sqlalchemy import create_engine\n",
    "from sqlalchemy import MetaData\n",
    "from sqlalchemy import exc\n",
    "from datetime import datetime\n",
    "from io import StringIO\n",
    "import re\n",
    "import sys"
   ]
  },
  {
   "cell_type": "code",
   "execution_count": 3,
   "metadata": {},
   "outputs": [],
   "source": [
    "path = 'C:\\\\Users\\\\adamb\\\\Desktop\\\\BOT\\\\'\n",
    "lista_arquivos = os.listdir(path)"
   ]
  },
  {
   "cell_type": "code",
   "execution_count": 4,
   "metadata": {},
   "outputs": [],
   "source": [
    "dici_arquivos = {\n",
    "    'sales': 'Base_{}.csv'\n",
    "}"
   ]
  },
  {
   "cell_type": "code",
   "execution_count": 5,
   "metadata": {},
   "outputs": [],
   "source": [
    "def have_tables(dici_arquivos):\n",
    "    tabelas_faltante = []\n",
    "    for tabela in dici_arquivos:\n",
    "        if dici_arquivos[tabela] == '':\n",
    "            tabelas_faltante.append(tabela)\n",
    "    \n",
    "    if len(tabelas_faltante)>0:\n",
    "        print('Estão faltando as seguintes tabelas:\\n',tabelas_faltante)"
   ]
  },
  {
   "cell_type": "code",
   "execution_count": 6,
   "metadata": {},
   "outputs": [],
   "source": [
    "def get_list_of_dataframe(arquivo):\n",
    "    prefixo_arquivo = arquivo.replace('{}.csv', '')\n",
    "    arquivo_diretorio = os.listdir(path)\n",
    "    lista_arquivos_para_agrupar = [arquivo for arquivo in arquivo_diretorio if arquivo.startswith(prefixo_arquivo) ]\n",
    "    # Agrupar arquivos em 1 único dataframe\n",
    "    lista_df = []\n",
    "    print('lido os arquivos: ')\n",
    "    for arquivo in lista_arquivos_para_agrupar:  \n",
    "        print(arquivo)\n",
    "        lista_df.append(text_file_to_dataframe(path+arquivo))\n",
    "    return lista_df"
   ]
  },
  {
   "cell_type": "code",
   "execution_count": 7,
   "metadata": {},
   "outputs": [],
   "source": [
    "def text_file_to_dataframe(path_file):\n",
    "    try:\n",
    "        return pd.read_csv(path_file, sep=';', encoding='utf8', dtype='str')\n",
    "    except pd.errors.ParserError as e:\n",
    "        with open(\"temp.log\", \"w\") as f: \n",
    "            original_stderr = sys.stderr\n",
    "            sys.stderr = f\n",
    "            df = pd.read_csv(path_file, sep=';', encoding='utf8', error_bad_lines=False, dtype='str')\n",
    "            sys.stderr = original_stderr\n",
    "            \n",
    "        # Exibir as linhas que apresentaram erro    \n",
    "        with open(\"temp.log\", \"r\") as f: \n",
    "            lines = f.readlines()[0].split('\\\\n')\n",
    "            errors = []\n",
    "            for line in lines:\n",
    "                errors += [re.findall('\\d+', line)]\n",
    "                errors_lines = [int(first[0]) for first in errors if len(first)>0]\n",
    "                \n",
    "        print('Arquivos com linhas quebradas: {} \\nLinhas:{}'.format(path_file, errors_lines))\n",
    "        \n",
    "        \n",
    "    return df"
   ]
  },
  {
   "cell_type": "code",
   "execution_count": 8,
   "metadata": {},
   "outputs": [],
   "source": [
    "def read_file(tabela, path):\n",
    "    arquivo = dici_arquivos[tabela]\n",
    "    # verificar se a tabela está dividida em multiplos arquivo\n",
    "    if '{}' in arquivo:\n",
    "        lista_df = get_list_of_dataframe(arquivo)\n",
    "        df = pd.concat(lista_df, sort=False)\n",
    "    else:\n",
    "        df = text_file_to_dataframe(path+arquivo)\n",
    "        \n",
    "    df.archive = arquivo\n",
    "    df.table = tabela\n",
    "    return df"
   ]
  },
  {
   "cell_type": "code",
   "execution_count": 9,
   "metadata": {},
   "outputs": [],
   "source": [
    "'''\n",
    "Passar essa responsabilidade para o read_file\n",
    "'''\n",
    "def read_from_csv_deleting_lines(tabela, lines=[]):\n",
    "    with open(path + dici_arquivos[tabela], \"r\", encoding='utf8') as in_file:\n",
    "        arquivo_lista = in_file.read().splitlines()\n",
    "        for line in lines:\n",
    "            if str(line)[0]=='>':\n",
    "                line = int(line[1:])\n",
    "                del arquivo_lista[line-1:]\n",
    "            else: \n",
    "                del arquivo_lista[line-1]\n",
    "    arquivo_texto = StringIO('\\n'.join(arquivo_lista))\n",
    "    df = pd.read_csv(arquivo_texto, sep=';')\n",
    "    return df"
   ]
  },
  {
   "cell_type": "code",
   "execution_count": 10,
   "metadata": {},
   "outputs": [],
   "source": [
    "def load_to_db(df):\n",
    "    df.to_sql('sales'.format(tabela),\n",
    "          con=engine,\n",
    "          schema=os.getenv('SCHEMA'),\n",
    "          #if_exists='replace',\n",
    "          index=False,\n",
    "          chunksize=10000,\n",
    "          method='multi'\n",
    "         )"
   ]
  },
  {
   "cell_type": "code",
   "execution_count": 11,
   "metadata": {},
   "outputs": [],
   "source": [
    "have_tables(dici_arquivos)"
   ]
  },
  {
   "cell_type": "code",
   "execution_count": 12,
   "metadata": {},
   "outputs": [],
   "source": [
    "tabela = 'sales'"
   ]
  },
  {
   "cell_type": "code",
   "execution_count": 13,
   "metadata": {},
   "outputs": [
    {
     "name": "stdout",
     "output_type": "stream",
     "text": [
      "lido os arquivos: \n",
      "Base_2017_1.csv\n",
      "Base_2018_2.csv\n",
      "Base_2019_3.csv\n"
     ]
    }
   ],
   "source": [
    "df = read_file(tabela, path)"
   ]
  },
  {
   "cell_type": "code",
   "execution_count": 14,
   "metadata": {},
   "outputs": [
    {
     "data": {
      "text/html": [
       "<div>\n",
       "<style scoped>\n",
       "    .dataframe tbody tr th:only-of-type {\n",
       "        vertical-align: middle;\n",
       "    }\n",
       "\n",
       "    .dataframe tbody tr th {\n",
       "        vertical-align: top;\n",
       "    }\n",
       "\n",
       "    .dataframe thead th {\n",
       "        text-align: right;\n",
       "    }\n",
       "</style>\n",
       "<table border=\"1\" class=\"dataframe\">\n",
       "  <thead>\n",
       "    <tr style=\"text-align: right;\">\n",
       "      <th></th>\n",
       "      <th>ID_MARCA</th>\n",
       "      <th>MARCA</th>\n",
       "      <th>ID_LINHA</th>\n",
       "      <th>LINHA</th>\n",
       "      <th>DATA_VENDA</th>\n",
       "      <th>QTD_VENDA</th>\n",
       "    </tr>\n",
       "  </thead>\n",
       "  <tbody>\n",
       "    <tr>\n",
       "      <th>0</th>\n",
       "      <td>1</td>\n",
       "      <td>BOTICÁRIO</td>\n",
       "      <td>1</td>\n",
       "      <td>CABELOS</td>\n",
       "      <td>27/03/2018</td>\n",
       "      <td>9</td>\n",
       "    </tr>\n",
       "    <tr>\n",
       "      <th>1</th>\n",
       "      <td>4</td>\n",
       "      <td>VULT</td>\n",
       "      <td>1</td>\n",
       "      <td>CABELOS</td>\n",
       "      <td>03/02/2018</td>\n",
       "      <td>3</td>\n",
       "    </tr>\n",
       "    <tr>\n",
       "      <th>2</th>\n",
       "      <td>2</td>\n",
       "      <td>EUDORA</td>\n",
       "      <td>1</td>\n",
       "      <td>CABELOS</td>\n",
       "      <td>21/10/2018</td>\n",
       "      <td>7</td>\n",
       "    </tr>\n",
       "    <tr>\n",
       "      <th>3</th>\n",
       "      <td>2</td>\n",
       "      <td>EUDORA</td>\n",
       "      <td>4</td>\n",
       "      <td>SOLAR</td>\n",
       "      <td>22/04/2018</td>\n",
       "      <td>13</td>\n",
       "    </tr>\n",
       "    <tr>\n",
       "      <th>4</th>\n",
       "      <td>5</td>\n",
       "      <td>BELEZA NA WEB</td>\n",
       "      <td>3</td>\n",
       "      <td>MAQUIAGEM</td>\n",
       "      <td>21/03/2018</td>\n",
       "      <td>9</td>\n",
       "    </tr>\n",
       "  </tbody>\n",
       "</table>\n",
       "</div>"
      ],
      "text/plain": [
       "  ID_MARCA          MARCA ID_LINHA      LINHA  DATA_VENDA QTD_VENDA\n",
       "0        1      BOTICÁRIO        1    CABELOS  27/03/2018         9\n",
       "1        4           VULT        1    CABELOS  03/02/2018         3\n",
       "2        2         EUDORA        1    CABELOS  21/10/2018         7\n",
       "3        2         EUDORA        4      SOLAR  22/04/2018        13\n",
       "4        5  BELEZA NA WEB        3  MAQUIAGEM  21/03/2018         9"
      ]
     },
     "execution_count": 14,
     "metadata": {},
     "output_type": "execute_result"
    }
   ],
   "source": [
    "df.head()"
   ]
  },
  {
   "cell_type": "code",
   "execution_count": 15,
   "metadata": {},
   "outputs": [
    {
     "data": {
      "text/plain": [
       "ID_MARCA      object\n",
       "MARCA         object\n",
       "ID_LINHA      object\n",
       "LINHA         object\n",
       "DATA_VENDA    object\n",
       "QTD_VENDA     object\n",
       "dtype: object"
      ]
     },
     "execution_count": 15,
     "metadata": {},
     "output_type": "execute_result"
    }
   ],
   "source": [
    "df.dtypes"
   ]
  },
  {
   "cell_type": "code",
   "execution_count": 16,
   "metadata": {},
   "outputs": [
    {
     "data": {
      "text/plain": [
       "(3000, 6)"
      ]
     },
     "execution_count": 16,
     "metadata": {},
     "output_type": "execute_result"
    }
   ],
   "source": [
    "df.shape"
   ]
  },
  {
   "cell_type": "code",
   "execution_count": 17,
   "metadata": {},
   "outputs": [],
   "source": [
    "df[\"ID_MARCA\"]= df[\"ID_MARCA\"].astype(int)\n",
    "df[\"MARCA\"]= df[\"MARCA\"].astype(str)\n",
    "df[\"ID_LINHA\"]= df[\"ID_LINHA\"].astype(int)\n",
    "df[\"LINHA\"]= df[\"LINHA\"].astype(str)\n",
    "df[\"QTD_VENDA\"]= df[\"QTD_VENDA\"].astype(int)\n",
    "df[\"DATA_VENDA\"]= pd.to_datetime(df[\"DATA_VENDA\"])"
   ]
  },
  {
   "cell_type": "code",
   "execution_count": 18,
   "metadata": {},
   "outputs": [
    {
     "data": {
      "text/plain": [
       "ID_MARCA               int32\n",
       "MARCA                 object\n",
       "ID_LINHA               int32\n",
       "LINHA                 object\n",
       "DATA_VENDA    datetime64[ns]\n",
       "QTD_VENDA              int32\n",
       "dtype: object"
      ]
     },
     "execution_count": 18,
     "metadata": {},
     "output_type": "execute_result"
    }
   ],
   "source": [
    "df.dtypes"
   ]
  },
  {
   "cell_type": "code",
   "execution_count": 19,
   "metadata": {},
   "outputs": [
    {
     "data": {
      "text/html": [
       "<div>\n",
       "<style scoped>\n",
       "    .dataframe tbody tr th:only-of-type {\n",
       "        vertical-align: middle;\n",
       "    }\n",
       "\n",
       "    .dataframe tbody tr th {\n",
       "        vertical-align: top;\n",
       "    }\n",
       "\n",
       "    .dataframe thead th {\n",
       "        text-align: right;\n",
       "    }\n",
       "</style>\n",
       "<table border=\"1\" class=\"dataframe\">\n",
       "  <thead>\n",
       "    <tr style=\"text-align: right;\">\n",
       "      <th></th>\n",
       "      <th>ID_MARCA</th>\n",
       "      <th>MARCA</th>\n",
       "      <th>ID_LINHA</th>\n",
       "      <th>LINHA</th>\n",
       "      <th>DATA_VENDA</th>\n",
       "      <th>QTD_VENDA</th>\n",
       "    </tr>\n",
       "  </thead>\n",
       "  <tbody>\n",
       "    <tr>\n",
       "      <th>0</th>\n",
       "      <td>1</td>\n",
       "      <td>BOTICÁRIO</td>\n",
       "      <td>1</td>\n",
       "      <td>CABELOS</td>\n",
       "      <td>2018-03-27</td>\n",
       "      <td>9</td>\n",
       "    </tr>\n",
       "    <tr>\n",
       "      <th>1</th>\n",
       "      <td>4</td>\n",
       "      <td>VULT</td>\n",
       "      <td>1</td>\n",
       "      <td>CABELOS</td>\n",
       "      <td>2018-03-02</td>\n",
       "      <td>3</td>\n",
       "    </tr>\n",
       "    <tr>\n",
       "      <th>2</th>\n",
       "      <td>2</td>\n",
       "      <td>EUDORA</td>\n",
       "      <td>1</td>\n",
       "      <td>CABELOS</td>\n",
       "      <td>2018-10-21</td>\n",
       "      <td>7</td>\n",
       "    </tr>\n",
       "    <tr>\n",
       "      <th>3</th>\n",
       "      <td>2</td>\n",
       "      <td>EUDORA</td>\n",
       "      <td>4</td>\n",
       "      <td>SOLAR</td>\n",
       "      <td>2018-04-22</td>\n",
       "      <td>13</td>\n",
       "    </tr>\n",
       "    <tr>\n",
       "      <th>4</th>\n",
       "      <td>5</td>\n",
       "      <td>BELEZA NA WEB</td>\n",
       "      <td>3</td>\n",
       "      <td>MAQUIAGEM</td>\n",
       "      <td>2018-03-21</td>\n",
       "      <td>9</td>\n",
       "    </tr>\n",
       "  </tbody>\n",
       "</table>\n",
       "</div>"
      ],
      "text/plain": [
       "   ID_MARCA          MARCA  ID_LINHA      LINHA DATA_VENDA  QTD_VENDA\n",
       "0         1      BOTICÁRIO         1    CABELOS 2018-03-27          9\n",
       "1         4           VULT         1    CABELOS 2018-03-02          3\n",
       "2         2         EUDORA         1    CABELOS 2018-10-21          7\n",
       "3         2         EUDORA         4      SOLAR 2018-04-22         13\n",
       "4         5  BELEZA NA WEB         3  MAQUIAGEM 2018-03-21          9"
      ]
     },
     "execution_count": 19,
     "metadata": {},
     "output_type": "execute_result"
    }
   ],
   "source": [
    "df.head()"
   ]
  },
  {
   "cell_type": "code",
   "execution_count": null,
   "metadata": {},
   "outputs": [],
   "source": [
    "df.to_gbq(destination_table='bigqueryDB.stage_table',project_id='boticario-294316',if_exists='fail')"
   ]
  }
 ],
 "metadata": {
  "kernelspec": {
   "display_name": "Python 3",
   "language": "python",
   "name": "python3"
  },
  "language_info": {
   "codemirror_mode": {
    "name": "ipython",
    "version": 3
   },
   "file_extension": ".py",
   "mimetype": "text/x-python",
   "name": "python",
   "nbconvert_exporter": "python",
   "pygments_lexer": "ipython3",
   "version": "3.7.6"
  }
 },
 "nbformat": 4,
 "nbformat_minor": 4
}
